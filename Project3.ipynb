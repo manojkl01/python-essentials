{
 "cells": [
  {
   "cell_type": "code",
   "execution_count": null,
   "metadata": {},
   "outputs": [],
   "source": [
    "from pytube import YouTube\n",
    "from tkinter import *\n",
    "\n",
    "root = Tk()\n",
    "\n",
    "root.geometry(\"400*400\")\n",
    "root.title(\"YOUTUBE video download\")\n",
    "\n",
    "def youtube():\n",
    "    a=var.get() #https://www.youtube.com/watch?v=6igvHGsoaQI\n",
    "    ytvideo=YouTube(a).streams.filter(progressive=True,file_extension=\"mp4\").order_by('resolution').desc().first()\n",
    "    ytvideo.download(r\"C:\\movies\")\n",
    "    print(\"Entry box\",a)\n",
    "\n",
    "l1=Label(root,text = \"YouTube Video Link\",fg=\"Red\",font=(\"bold\",20))\n",
    "l1.place(x=30,y=20)\n",
    "\n",
    "var = StringVar()\n",
    "e1=Entry(root,textvariable=var,width=60)\n",
    "e1.place(x=40,y=80)\n",
    "\n",
    "b1 = Button(root,text = \"Download\",command=youtube,bg = \"green \",width =\"20\",fg = \"white\" )\n",
    "b1.place(x=80,y=120)\n",
    "\n",
    "root.mainloop()"
   ]
  }
 ],
 "metadata": {
  "kernelspec": {
   "display_name": "Python 3",
   "language": "python",
   "name": "python3"
  },
  "language_info": {
   "codemirror_mode": {
    "name": "ipython",
    "version": 3
   },
   "file_extension": ".py",
   "mimetype": "text/x-python",
   "name": "python",
   "nbconvert_exporter": "python",
   "pygments_lexer": "ipython3",
   "version": "3.7.6"
  }
 },
 "nbformat": 4,
 "nbformat_minor": 4
}
