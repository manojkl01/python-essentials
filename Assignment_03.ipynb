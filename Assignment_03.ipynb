{
 "cells": [
  {
   "cell_type": "code",
   "execution_count": null,
   "metadata": {},
   "outputs": [],
   "source": [
    "#Write down a program in Python for Opening a File and Writing \"I Love LetsUpgrade\" And close it, and read it back again, and then append some data to it and close it.\n",
    "abc=open(\"helloworld.txt\",\"w\")\n",
    "abc.write(\"I Love letsupgrade\")\n",
    "abc.close()\n",
    "abc=open(\"helloworld.txt\",\"r\")\n",
    "content=abc.read()\n",
    "abc.write(\"Hello this this python class\")\n",
    "abc.close()\n",
    "\n",
    "#Write a function which can return a Factorial of any numbers as INT, given in the argument. \n",
    "def factorial(n):\n",
    "    if n == 0:\n",
    "        return 1\n",
    "    else:\n",
    "        return n * factorial(n-1)\n",
    "n=int(input(\"Input a number to compute the factiorial : \"))\n",
    "print(factorial(n))"
   ]
  }
 ],
 "metadata": {
  "kernelspec": {
   "display_name": "Python 3",
   "language": "python",
   "name": "python3"
  },
  "language_info": {
   "codemirror_mode": {
    "name": "ipython",
    "version": 3
   },
   "file_extension": ".py",
   "mimetype": "text/x-python",
   "name": "python",
   "nbconvert_exporter": "python",
   "pygments_lexer": "ipython3",
   "version": "3.7.6"
  }
 },
 "nbformat": 4,
 "nbformat_minor": 4
}
