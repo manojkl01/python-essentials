{
 "cells": [
  {
   "cell_type": "code",
   "execution_count": null,
   "metadata": {},
   "outputs": [],
   "source": [
    "#Question_1  working with 5 different functions of strings\n",
    "text=\"PYTHON\"\n",
    "print(len(text))\n",
    "\n",
    "s1=\"python\"\n",
    "s2=\"python\"\n",
    "if(s1==s2):\n",
    "    print(\"both strings are equal\")\n",
    "\n",
    "print(text.lower())\n",
    "\n",
    "print(s1.join(s2))\n",
    "\n",
    "print(text.replace(\"python\",\"selenium\"))\n",
    "\n",
    "#Question_2 working with 5 different functions on the list\n",
    "list=[100,200,300,400,500]\n",
    "list.append(600)\n",
    "list.insert(0,50)\n",
    "print(sum(list))\n",
    "print(list.count(100))\n",
    "list.clear()\n",
    "\n",
    "#Question_3 working with 5 default functions on dictionary\n",
    "car = {\n",
    "  \"brand\": \"Ford\",\n",
    "  \"model\": \"Mustang\",\n",
    "  \"year\": 1964\n",
    "}\n",
    "car.clear()\n",
    "print(car)\n",
    "\n",
    "x = car.get(\"model\")\n",
    "print(x)\n",
    "\n",
    "x = car.keys()\n",
    "print(x)\n",
    "\n",
    "x = car.values()\n",
    "print(x)\n",
    "\n",
    "car.pop(\"model\")\n",
    "print(car)"
   ]
  }
 ],
 "metadata": {
  "kernelspec": {
   "display_name": "Python 3",
   "language": "python",
   "name": "python3"
  },
  "language_info": {
   "codemirror_mode": {
    "name": "ipython",
    "version": 3
   },
   "file_extension": ".py",
   "mimetype": "text/x-python",
   "name": "python",
   "nbconvert_exporter": "python",
   "pygments_lexer": "ipython3",
   "version": "3.7.6"
  }
 },
 "nbformat": 4,
 "nbformat_minor": 4
}
