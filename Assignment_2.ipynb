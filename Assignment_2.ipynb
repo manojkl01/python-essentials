{
 "cells": [
  {
   "cell_type": "code",
   "execution_count": null,
   "metadata": {},
   "outputs": [],
   "source": [
    "#Question 1: Use IF ELSE and ELIF to write a program in python for your Report Cards.\n",
    "\n",
    "marks=int(input(\"enter your marks\"))\n",
    "if marks >= 90:\n",
    "  grade = 'A'\n",
    "elif marks >= 80:\n",
    "  grade = 'B'\n",
    "elif marks >= 70:\n",
    "  grade = 'C'\n",
    "elif marks >= 60:\n",
    "  grade = 'D'\n",
    "else:\n",
    "  grade = 'F'\n",
    "print(grade)\n",
    "\n",
    "#Question 2: Use For Loop to Print Prime Numbers in between 1 to 1000\n",
    "\n",
    "print(\"prime numbers between 1 to 1000 are....\")\n",
    "for Number in range (1, 1001):\n",
    "    count = 0\n",
    "    for i in range(2, (Number//2 + 1)):\n",
    "        if(Number % i == 0):\n",
    "            count = count + 1\n",
    "            break\n",
    "\n",
    "    if (count == 0 and Number != 1):\n",
    "        print(\" %d\" %Number, end = '  ')\n",
    "\n",
    "#Question 3: Write a program for printing the tables from 1,10 using Nested For Loop\n",
    "\n",
    "for i in range(1,11):\n",
    "    for j in range(1,11):\n",
    "        print(i*j,\"\",end='')\n",
    "        print()\n",
    "\n",
    "#Question 4: Write a program to Print X Prime Numbers using While Loop starting from 0\n",
    "\n",
    "start = 0\n",
    "end=int(input(\"enter the max range...\"))\n",
    "\n",
    "\n",
    "for i in range(start,end):\n",
    "  if i>1:\n",
    "    for j in range(2,i):\n",
    "        if(i % j==0):\n",
    "            break\n",
    "    else:\n",
    "        print(i)\n",
    "\n",
    "\n"
   ]
  }
 ],
 "metadata": {
  "kernelspec": {
   "display_name": "Python 3",
   "language": "python",
   "name": "python3"
  },
  "language_info": {
   "codemirror_mode": {
    "name": "ipython",
    "version": 3
   },
   "file_extension": ".py",
   "mimetype": "text/x-python",
   "name": "python",
   "nbconvert_exporter": "python",
   "pygments_lexer": "ipython3",
   "version": "3.7.6"
  }
 },
 "nbformat": 4,
 "nbformat_minor": 4
}
